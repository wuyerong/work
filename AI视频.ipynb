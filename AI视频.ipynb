{
 "cells": [
  {
   "cell_type": "code",
   "execution_count": 3,
   "id": "7a78a1f7",
   "metadata": {},
   "outputs": [
    {
     "name": "stdout",
     "output_type": "stream",
     "text": [
      "VideoObject(id='50481732691766445-9202953383854825714', model='cogvideox', video_result=None, task_status='PROCESSING', request_id='-9202953383854825715')\n"
     ]
    }
   ],
   "source": [
    "from zhipuai import ZhipuAI\n",
    "client = ZhipuAI(api_key=\"3ddc26b0c02368912f6fbb1fa8e16695.BCH4Ts7D4kNtS5pg\") # 请填写您自己的APIKey\n",
    "\n",
    "response = client.videos.generations(\n",
    "    model=\"cogvideox\",\n",
    "    prompt=\"陈昊文开小汽车，游走在马路上，脸上的表情洋洋得意。\"\n",
    ")\n",
    "print(response)"
   ]
  },
  {
   "cell_type": "code",
   "execution_count": 4,
   "id": "ef691146",
   "metadata": {},
   "outputs": [
    {
     "name": "stdout",
     "output_type": "stream",
     "text": [
      "VideoObject(id=None, model='cogvideox', video_result=[VideoResult(url='https://aigc-files.bigmodel.cn/api/cogvideo/e221b136-acda-11ef-8bda-8e43cc144737_0.mp4', cover_image_url='https://aigc-files.bigmodel.cn/api/cogvideo/e221b136-acda-11ef-8bda-8e43cc144737_cover_0.jpeg')], task_status='SUCCESS', request_id='-9202953383854825715')\n"
     ]
    }
   ],
   "source": [
    "from zhipuai import ZhipuAI\n",
    "client = ZhipuAI(api_key=\"3ddc26b0c02368912f6fbb1fa8e16695.BCH4Ts7D4kNtS5pg\") # 请填写您自己的APIKey\n",
    "\n",
    "response = client.videos.retrieve_videos_result(\n",
    "    id=\"50481732691766445-9202953383854825714\"\n",
    ")\n",
    "print(response)"
   ]
  },
  {
   "cell_type": "code",
   "execution_count": 6,
   "id": "50096edc",
   "metadata": {},
   "outputs": [
    {
     "name": "stdout",
     "output_type": "stream",
     "text": [
      "Python 3.8.8\n"
     ]
    }
   ],
   "source": [
    "!python --version"
   ]
  },
  {
   "cell_type": "code",
   "execution_count": null,
   "id": "6b038f34",
   "metadata": {},
   "outputs": [],
   "source": [
    "！"
   ]
  }
 ],
 "metadata": {
  "kernelspec": {
   "display_name": "Python 3",
   "language": "python",
   "name": "python3"
  },
  "language_info": {
   "codemirror_mode": {
    "name": "ipython",
    "version": 3
   },
   "file_extension": ".py",
   "mimetype": "text/x-python",
   "name": "python",
   "nbconvert_exporter": "python",
   "pygments_lexer": "ipython3",
   "version": "3.8.8"
  }
 },
 "nbformat": 4,
 "nbformat_minor": 5
}
